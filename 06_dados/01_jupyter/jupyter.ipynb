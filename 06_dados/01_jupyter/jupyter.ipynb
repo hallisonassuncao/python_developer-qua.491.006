{
 "cells": [
  {
   "cell_type": "markdown",
   "id": "12d37b7b",
   "metadata": {},
   "source": [
    "# Título do meu texto\n",
    "---"
   ]
  },
  {
   "cell_type": "markdown",
   "id": "72060ae3",
   "metadata": {},
   "source": [
    "## Subtítulo\n",
    "### Título nível 3"
   ]
  },
  {
   "cell_type": "markdown",
   "id": "78c05be7",
   "metadata": {},
   "source": [
    "Aqui eu posso digitar meu texto normalmente. Adicionando mais texto."
   ]
  },
  {
   "cell_type": "markdown",
   "id": "28eac3bb",
   "metadata": {},
   "source": [
    "Novo markdown adicionado embaixo do texto."
   ]
  },
  {
   "cell_type": "markdown",
   "id": "efcc8c5e",
   "metadata": {},
   "source": [
    "Exemplificar um código em Python `print(\"Olá, Mundo!\")`"
   ]
  },
  {
   "cell_type": "markdown",
   "id": "fb5446e4",
   "metadata": {},
   "source": [
    "Código em Java `System.out.println(\"Olá, mundo\");`"
   ]
  },
  {
   "cell_type": "markdown",
   "id": "df9f8281",
   "metadata": {},
   "source": [
    "Código-fonte completo em Java:\n",
    "\n",
    "~~~Java\n",
    "public class App {\n",
    "    public static void main(String[] args) throws Exception {\n",
    "        System.out.println(\"Olá, Mundo!\");\n",
    "    }\n",
    "}\n",
    "~~~"
   ]
  },
  {
   "cell_type": "code",
   "execution_count": 2,
   "id": "f1fe0284",
   "metadata": {},
   "outputs": [
    {
     "name": "stdout",
     "output_type": "stream",
     "text": [
      "Olá, Mundo!\n"
     ]
    }
   ],
   "source": [
    "print(\"Olá, Mundo!\")"
   ]
  },
  {
   "cell_type": "code",
   "execution_count": 1,
   "id": "531bfda4",
   "metadata": {},
   "outputs": [],
   "source": [
    "texto = \"Este aqui é um texto!\""
   ]
  },
  {
   "cell_type": "markdown",
   "id": "3eea408a",
   "metadata": {},
   "source": [
    "Markdown representando um texto!"
   ]
  },
  {
   "cell_type": "code",
   "execution_count": 1,
   "id": "3cf7ab75",
   "metadata": {},
   "outputs": [
    {
     "ename": "NameError",
     "evalue": "name 'texto' is not defined",
     "output_type": "error",
     "traceback": [
      "\u001b[31m---------------------------------------------------------------------------\u001b[39m",
      "\u001b[31mNameError\u001b[39m                                 Traceback (most recent call last)",
      "\u001b[36mCell\u001b[39m\u001b[36m \u001b[39m\u001b[32mIn[1]\u001b[39m\u001b[32m, line 1\u001b[39m\n\u001b[32m----> \u001b[39m\u001b[32m1\u001b[39m \u001b[38;5;28mprint\u001b[39m(\u001b[43mtexto\u001b[49m)\n",
      "\u001b[31mNameError\u001b[39m: name 'texto' is not defined"
     ]
    }
   ],
   "source": [
    "print(texto)"
   ]
  }
 ],
 "metadata": {
  "kernelspec": {
   "display_name": "Python 3",
   "language": "python",
   "name": "python3"
  },
  "language_info": {
   "codemirror_mode": {
    "name": "ipython",
    "version": 3
   },
   "file_extension": ".py",
   "mimetype": "text/x-python",
   "name": "python",
   "nbconvert_exporter": "python",
   "pygments_lexer": "ipython3",
   "version": "3.13.4"
  }
 },
 "nbformat": 4,
 "nbformat_minor": 5
}
