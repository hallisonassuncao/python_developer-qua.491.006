{
 "cells": [
  {
   "cell_type": "markdown",
   "id": "9145f0c2",
   "metadata": {},
   "source": [
    "# Análise de dados da Cyberdyne Systems\n",
    "---\n",
    "\n",
    "A Cyberdyne Systems contratou cientistas de dados do SENAI *experts* em na linguagem de programação em Python para analisar o auto índice de cancelamentos de contratos por parte dos clientes da empresa. O desafio aqui é tentar descobrir a causa do alto índice de cancelamentos e indicar a melhor solução para a empresa.\n",
    "\n",
    "Para isso, a Cyberdyne Systems forneceu um *dataset* com os detalhes dos cancelamentos. Os cientistas devem analisar o *dataset* através da biblioteca ***Pandas***.\n",
    "\n",
    "Vamos começar trazendo todos os dados do *dataset* e fazendo o tratamento dos dados."
   ]
  },
  {
   "cell_type": "markdown",
   "id": "7e19e096",
   "metadata": {},
   "source": [
    "Agora vamos eliminar a coluna de ID e mandar re-exibir a tabela."
   ]
  },
  {
   "cell_type": "code",
   "execution_count": null,
   "id": "584c458e",
   "metadata": {},
   "outputs": [],
   "source": [
    "# importa da biblioteca pandas\n",
    "import pandas as pd\n",
    "\n",
    "# lê os dados do dataset\n",
    "tabela = pd.read_csv(\"cancelamentos.csv\")\n",
    "\n",
    "# imprime os dados do dataset no notebook\n",
    "display(tabela)"
   ]
  },
  {
   "cell_type": "code",
   "execution_count": null,
   "id": "ab57dd8e",
   "metadata": {},
   "outputs": [],
   "source": [
    "tabela = tabela.drop(\"CustomerID\", axis=1)\n",
    "display(tabela)"
   ]
  },
  {
   "cell_type": "code",
   "execution_count": null,
   "id": "6be17882",
   "metadata": {},
   "outputs": [],
   "source": [
    "display(tabela.info())"
   ]
  },
  {
   "cell_type": "code",
   "execution_count": null,
   "id": "34c310ac",
   "metadata": {},
   "outputs": [],
   "source": [
    "tabela = tabela.dropna()\n",
    "display(tabela.info())"
   ]
  },
  {
   "cell_type": "code",
   "execution_count": null,
   "id": "e309d0fa",
   "metadata": {},
   "outputs": [],
   "source": [
    "display(tabela[\"cancelou\"].value_counts())"
   ]
  },
  {
   "cell_type": "code",
   "execution_count": 14,
   "id": "d067fff6",
   "metadata": {},
   "outputs": [
    {
     "data": {
      "application/vnd.microsoft.datawrangler.viewer.v0+json": {
       "columns": [
        {
         "name": "cancelou",
         "rawType": "float64",
         "type": "float"
        },
        {
         "name": "proportion",
         "rawType": "object",
         "type": "string"
        }
       ],
       "ref": "736f1e9b-4994-44a2-9434-2751bb138ff4",
       "rows": [
        [
         "1.0",
         "56.71%"
        ],
        [
         "0.0",
         "43.29%"
        ]
       ],
       "shape": {
        "columns": 1,
        "rows": 2
       }
      },
      "text/plain": [
       "cancelou\n",
       "1.0    56.71%\n",
       "0.0    43.29%\n",
       "Name: proportion, dtype: object"
      ]
     },
     "metadata": {},
     "output_type": "display_data"
    }
   ],
   "source": [
    "display(tabela[\"cancelou\"].value_counts(normalize=True).map(\"{:.2%}\".format))"
   ]
  },
  {
   "cell_type": "code",
   "execution_count": null,
   "id": "b01ae0d8",
   "metadata": {},
   "outputs": [],
   "source": [
    "display(tabela[\"duracao_contrato\"].value_counts())\n",
    "display(tabela[\"duracao_contrato\"].value_counts(normalize=True).map(\"{:.2%}\".format))"
   ]
  },
  {
   "cell_type": "code",
   "execution_count": null,
   "id": "d83b5a1f",
   "metadata": {},
   "outputs": [],
   "source": [
    "display(tabela.groupby(\"duracao_contrato\").mean(numeric_only=True))"
   ]
  },
  {
   "cell_type": "code",
   "execution_count": null,
   "id": "3c263108",
   "metadata": {},
   "outputs": [],
   "source": []
  }
 ],
 "metadata": {
  "kernelspec": {
   "display_name": "Python 3",
   "language": "python",
   "name": "python3"
  },
  "language_info": {
   "codemirror_mode": {
    "name": "ipython",
    "version": 3
   },
   "file_extension": ".py",
   "mimetype": "text/x-python",
   "name": "python",
   "nbconvert_exporter": "python",
   "pygments_lexer": "ipython3",
   "version": "3.13.4"
  }
 },
 "nbformat": 4,
 "nbformat_minor": 5
}
