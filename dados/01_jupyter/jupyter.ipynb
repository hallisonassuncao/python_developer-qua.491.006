{
 "cells": [
  {
   "cell_type": "markdown",
   "id": "12d37b7b",
   "metadata": {},
   "source": [
    "# Título do meu texto\n",
    "---"
   ]
  },
  {
   "cell_type": "markdown",
   "id": "72060ae3",
   "metadata": {},
   "source": [
    "## Subtítulo\n",
    "### Título nível 3"
   ]
  },
  {
   "cell_type": "markdown",
   "id": "78c05be7",
   "metadata": {},
   "source": [
    "Aqui eu posso digitar meu texto normalmente. Adicionando mais texto."
   ]
  },
  {
   "cell_type": "markdown",
   "id": "28eac3bb",
   "metadata": {},
   "source": [
    "Novo markdown adicionado embaixo do texto."
   ]
  },
  {
   "cell_type": "markdown",
   "id": "efcc8c5e",
   "metadata": {},
   "source": [
    "Exemplificar um código em Python `print(\"Olá, Mundo!\")`"
   ]
  },
  {
   "cell_type": "markdown",
   "id": "fb5446e4",
   "metadata": {},
   "source": [
    "Código em Java `System.out.println(\"Olá, mundo\");`"
   ]
  },
  {
   "cell_type": "markdown",
   "id": "df9f8281",
   "metadata": {},
   "source": [
    "Código-fonte completo em Java:\n",
    "\n",
    "~~~Java\n",
    "public class App {\n",
    "    public static void main(String[] args) throws Exception {\n",
    "        System.out.println(\"Olá, Mundo!\");\n",
    "    }\n",
    "}\n",
    "~~~"
   ]
  },
  {
   "cell_type": "code",
   "execution_count": 2,
   "id": "f1fe0284",
   "metadata": {},
   "outputs": [
    {
     "name": "stdout",
     "output_type": "stream",
     "text": [
      "Olá, Mundo!\n"
     ]
    }
   ],
   "source": [
    "print(\"Olá, Mundo!\")"
   ]
  },
  {
   "cell_type": "code",
   "execution_count": 1,
   "id": "531bfda4",
   "metadata": {},
   "outputs": [],
   "source": [
    "texto = \"Este aqui é um texto!\""
   ]
  },
  {
   "cell_type": "markdown",
   "id": "3eea408a",
   "metadata": {},
   "source": [
    "Markdown representando um texto!"
   ]
  },
  {
   "cell_type": "code",
   "execution_count": 2,
   "id": "3cf7ab75",
   "metadata": {},
   "outputs": [
    {
     "name": "stdout",
     "output_type": "stream",
     "text": [
      "Este aqui é um texto!\n"
     ]
    }
   ],
   "source": [
    "print(texto)"
   ]
  }
 ],
 "metadata": {
  "kernelspec": {
   "display_name": "Python 3",
   "language": "python",
   "name": "python3"
  },
  "language_info": {
   "codemirror_mode": {
    "name": "ipython",
    "version": 3
   },
   "file_extension": ".py",
   "mimetype": "text/x-python",
   "name": "python",
   "nbconvert_exporter": "python",
   "pygments_lexer": "ipython3",
   "version": "3.13.4"
  }
 },
 "nbformat": 4,
 "nbformat_minor": 5
}
